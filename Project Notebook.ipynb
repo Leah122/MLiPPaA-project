{
  "nbformat": 4,
  "nbformat_minor": 0,
  "metadata": {
    "colab": {
      "provenance": [],
      "gpuType": "T4",
      "collapsed_sections": [
        "ING_DNl6gcN3"
      ]
    },
    "kernelspec": {
      "name": "python3",
      "display_name": "Python 3"
    },
    "language_info": {
      "name": "python"
    },
    "accelerator": "GPU"
  },
  "cells": [
    {
      "cell_type": "markdown",
      "source": [
        "# Intro\n",
        "\n",
        "This notebook is only used to train the network, the data generation is done in the python scripts that are provided in the github. In order to be able to run the whole notebook you need to have a folder called data with the files hits.txt and parameters.txt inside. To be able to save the model you need a folder named model.\n",
        "\n",
        "```\n",
        "- notebook.ipynb\n",
        "- data\n",
        "  - parameters.txt\n",
        "  - hits.txt\n",
        "- model\n",
        "```\n",
        "\n",
        "We start by doing all of our imports and defining some constants. Then we load the device in order to be able to use the GPU, and we load the dataset.\n",
        "\n"
      ],
      "metadata": {
        "id": "dsd6qqwFHfEp"
      }
    },
    {
      "cell_type": "code",
      "execution_count": 38,
      "metadata": {
        "id": "rkGuxqY7u_NK"
      },
      "outputs": [],
      "source": [
        "import tqdm\n",
        "import torch\n",
        "from torch import nn\n",
        "import os\n",
        "import math\n",
        "import numpy as np\n",
        "import pandas as pd\n",
        "from torch import Tensor\n",
        "from torch.nn import TransformerEncoder, TransformerEncoderLayer\n",
        "from torch.utils.data import Dataset, DataLoader, random_split\n",
        "from timeit import default_timer as timer\n",
        "from torch.nn.utils.rnn import pad_sequence\n",
        "import matplotlib.pyplot as plt\n",
        "# from utils import custom_collate, create_mask_src, create_output_pred_mask, sort_by_angle, load_variable_len_data, get_labels_2d, get_labels_3d, normalize_data"
      ]
    },
    {
      "cell_type": "code",
      "source": [
        "DETECTORS = [1, 2, 3, 4, 5]\n",
        "NR_DETECTORS = len(DETECTORS)\n",
        "DIM = 2\n",
        "DATA_FILENAME = \"data/hits.txt\"\n",
        "LABEL_FILENAME = \"data/parameters.txt\"\n",
        "BATCH_SIZE = 32\n",
        "TEST_BATCH_SIZE = 2\n",
        "PADDING_LEN_INPUT = 100\n",
        "PADDING_LEN_LBL = 20\n",
        "PAD_TOKEN = 50\n",
        "EARLY_STOPPING = 6\n",
        "LOSS_FN = nn.MSELoss(reduction='mean')\n",
        "DEVICE = torch.device('cuda:0' if torch.cuda.is_available() else 'cpu')"
      ],
      "metadata": {
        "id": "CnRn4AyWHUeX"
      },
      "execution_count": 39,
      "outputs": []
    },
    {
      "cell_type": "markdown",
      "source": [
        "# utility functions\n",
        "\n",
        "The following section includes a few functions that are used later on."
      ],
      "metadata": {
        "id": "XN3SPNk4WVzj"
      }
    },
    {
      "cell_type": "code",
      "source": [
        "def custom_collate(batch):\n",
        "    event_ids = []\n",
        "    xs, ys, zs = [], [], []\n",
        "    labels = []\n",
        "    labels_pad, lbl_lens = None, None\n",
        "\n",
        "    # load in the elements in the batch\n",
        "    for b in batch:\n",
        "        event_ids.append(b[0])\n",
        "        xs.append(b[1])\n",
        "        ys.append(b[2])\n",
        "        zs.append(b[3])\n",
        "        labels.append(b[4])\n",
        "\n",
        "    x_lens = [len(val) for val in xs]\n",
        "    lbl_lens = [len(lbl) for lbl in labels]\n",
        "\n",
        "    # pad the labels\n",
        "    if DIM == 2:\n",
        "        labels[0] = nn.ConstantPad1d((0, PADDING_LEN_LBL - labels[0].shape[0]), PAD_TOKEN)(labels[0])\n",
        "    if DIM == 3:\n",
        "        labels[0] = nn.ConstantPad2d((0, 0, 0, PADDING_LEN_LBL - labels[0].shape[0]), PAD_TOKEN)(labels[0])\n",
        "    labels_pad = pad_sequence(labels, batch_first=False, padding_value=PAD_TOKEN)\n",
        "\n",
        "    # add padding to the x, y and z vectors\n",
        "    xs[0] = nn.ConstantPad1d((0, PADDING_LEN_INPUT - xs[0].shape[0]), PAD_TOKEN)(xs[0])\n",
        "    ys[0] = nn.ConstantPad1d((0, PADDING_LEN_INPUT - ys[0].shape[0]), PAD_TOKEN)(ys[0])\n",
        "    zs[0] = nn.ConstantPad1d((0, PADDING_LEN_INPUT - zs[0].shape[0]), PAD_TOKEN)(zs[0])\n",
        "\n",
        "    xs_pad = pad_sequence(xs, batch_first=False, padding_value=PAD_TOKEN)\n",
        "    ys_pad = pad_sequence(ys, batch_first=False, padding_value=PAD_TOKEN)\n",
        "    zs_pad = pad_sequence(zs, batch_first=False, padding_value=PAD_TOKEN)\n",
        "    x = torch.stack((xs_pad, ys_pad, zs_pad), dim=1)\n",
        "\n",
        "    # Return the final batch\n",
        "    return event_ids, x.transpose(1, 2), x_lens, labels_pad, lbl_lens\n",
        "\n",
        "\n",
        "def load_variable_len_data(path):\n",
        "    # from https://stackoverflow.com/questions/27020216/import-csv-with-different-number-of-columns-per-row-using-pandas\n",
        "    with open(path, 'r') as f:\n",
        "        col_count = [len(l.split(\",\")) for l in f.readlines()]\n",
        "\n",
        "    # create column names corresponding to their index\n",
        "    column_names = [i for i in range(0, max(col_count))]\n",
        "\n",
        "    # read data with the previously created column names\n",
        "    data = pd.read_csv(path, header=None, delimiter=\",\", names=column_names)\n",
        "    return data\n",
        "\n",
        "\n",
        "def create_mask_src(src, device):\n",
        "    src_seq_len = src.shape[0]\n",
        "    padding_vector = torch.full((src_seq_len,), PAD_TOKEN, device=device)\n",
        "    src_mask = torch.zeros((src_seq_len, src_seq_len), device=device).type(torch.bool)\n",
        "    src_padding_mask = (src.transpose(0, 2) == padding_vector).all(dim=0)\n",
        "\n",
        "    return src_mask, src_padding_mask\n",
        "\n",
        "\n",
        "def create_output_pred_mask(tensor, indices):\n",
        "    indices_arr = np.array(indices)\n",
        "    row_indices = np.arange(tensor.shape[1])[:, np.newaxis]\n",
        "    col_indices = np.arange(tensor.shape[0])\n",
        "    mask = col_indices < indices_arr[row_indices]\n",
        "    return mask.T\n",
        "\n",
        "\n",
        "def get_labels_2d(event_labels, sort=True):\n",
        "    labels = event_labels[2::2]\n",
        "    labels = [float(value) for value in labels if not math.isnan(value)]\n",
        "    if sort:\n",
        "        labels = np.sort(labels)\n",
        "    return labels\n",
        "\n",
        "\n",
        "def get_labels_3d(event_labels, sort=True):\n",
        "    labels = event_labels[2::2]\n",
        "\n",
        "    tmp_labels = []\n",
        "    for angles in labels:\n",
        "        if not isinstance(angles, float): # if there is a nan, it's a float, so we should skip it\n",
        "            angles = angles.split(';')\n",
        "            tmp_labels.append((float(angles[0]), float(angles[1])))\n",
        "    labels = tmp_labels\n",
        "\n",
        "    if sort:\n",
        "        labels = np.sort(labels)\n",
        "    return labels\n",
        "\n",
        "\n",
        "def normalize_data(data):\n",
        "    maximum = data.abs().max()\n",
        "    norm_data = data / maximum\n",
        "    return norm_data\n",
        "\n",
        "\n",
        "def cartesian2cylindrical(x, y, z=None):\n",
        "    # convert the cartesian coordinates into cylindrical coordinates\n",
        "    rho = np.sqrt(x ** 2 + y ** 2)\n",
        "    phi = np.arctan2(y, x)\n",
        "    return (rho, phi, z) if z is not None else (rho, phi)\n",
        "\n",
        "\n",
        "def sort_by_angle(x, y, z = None):\n",
        "    # convert the seperate lists into one list of tuples\n",
        "    coords = []\n",
        "    for i in range(len(x)):\n",
        "            if DIM == 2:\n",
        "                coords.append((x[i], y[i]))\n",
        "            elif DIM == 3:\n",
        "                coords.append((x[i], y[i], z[i]))\n",
        "\n",
        "    # sort the list\n",
        "    dist_coords = np.array(coords)\n",
        "    distances = np.round(np.linalg.norm(dist_coords, axis=1))\n",
        "    # Sort first by rho, round the rho, then sort by phi (sorting by the angle on detector)\n",
        "    cylindrical_coords = [cartesian2cylindrical(*coord) for coord in coords]\n",
        "    sorted_indices = np.lexsort((list(zip(*cylindrical_coords))[1], distances))\n",
        "    sorted_cartesian_coords = [coords[i] for i in sorted_indices]\n",
        "\n",
        "    # convert back into seperate lists\n",
        "    if DIM == 2:\n",
        "        x, y = zip(*sorted_cartesian_coords)\n",
        "    elif DIM == 3:\n",
        "        x, y, z = zip(*sorted_cartesian_coords)\n",
        "\n",
        "    return x, y, z\n"
      ],
      "metadata": {
        "id": "dRl2j_-FWU2-"
      },
      "execution_count": 40,
      "outputs": []
    },
    {
      "cell_type": "markdown",
      "source": [
        "# The Dataset\n",
        "The following code block defines the dataset which is used by the data loader later on."
      ],
      "metadata": {
        "id": "gypmYH_ekAeb"
      }
    },
    {
      "cell_type": "code",
      "source": [
        "class TrajectoryDataset(Dataset):\n",
        "    def __init__(self, data_filename, labels_filename, normalize=False):\n",
        "        self.data = load_variable_len_data(data_filename)\n",
        "        self.labels = load_variable_len_data(labels_filename)\n",
        "\n",
        "        self.total_nr_events = len(self.data)\n",
        "        self.normalize = normalize\n",
        "\n",
        "\n",
        "    def __len__(self):\n",
        "        return self.total_nr_events\n",
        "\n",
        "\n",
        "    def __getitem__(self, idx):\n",
        "        labels = None\n",
        "        data = self.data.iloc[[idx]].values.tolist()[0]\n",
        "        event_id = int(data[0])\n",
        "\n",
        "        # get the label\n",
        "        event_labels = self.labels.iloc[[event_id]].values.tolist()[0]\n",
        "        if DIM == 2:\n",
        "            labels = get_labels_2d(event_labels)\n",
        "        elif DIM == 3:\n",
        "            labels = get_labels_3d(event_labels)\n",
        "\n",
        "        # get the x and y coordinates\n",
        "        x = data[1::DIM + 1]\n",
        "        y = data[2::DIM + 1]\n",
        "\n",
        "        # convert to float\n",
        "        x = [float(value) for value in x if not math.isnan(value)]\n",
        "        y = [float(value) for value in y if not math.isnan(value)]\n",
        "\n",
        "        # if 2d data we fill the z vector with padding, if 3d data we fill it with data\n",
        "        z = None\n",
        "        if DIM == 2:\n",
        "            z = [PAD_TOKEN] * len(x)\n",
        "        elif DIM == 3:\n",
        "            z = data[3::DIM + 1]\n",
        "            z = [float(value) for value in z if not math.isnan(value)]\n",
        "\n",
        "        # normalise\n",
        "        if self.normalize:\n",
        "            raise NotImplementedError() #TODO\n",
        "\n",
        "        # sort the data\n",
        "        if DIM == 2:\n",
        "            x, y, _ = sort_by_angle(x, y)\n",
        "        elif DIM == 3:\n",
        "            x, y, z = sort_by_angle(x, y, z)\n",
        "\n",
        "        # convert the coordinates and labels to tensors\n",
        "        x = torch.tensor(x).float()\n",
        "        y = torch.tensor(y).float()\n",
        "        z = torch.tensor(z).float()\n",
        "        labels = torch.tensor(labels).float()\n",
        "\n",
        "        # clean up data\n",
        "        del data\n",
        "\n",
        "        return event_id, x, y, z, labels"
      ],
      "metadata": {
        "id": "k_ExMB6VNe7F"
      },
      "execution_count": 41,
      "outputs": []
    },
    {
      "cell_type": "code",
      "source": [
        "dataset = TrajectoryDataset(DATA_FILENAME, LABEL_FILENAME)"
      ],
      "metadata": {
        "id": "EpIBDj92IHtn"
      },
      "execution_count": 42,
      "outputs": []
    },
    {
      "cell_type": "markdown",
      "source": [
        "# Training Functions\n",
        "Here we define functions for the training and evaluating of the model."
      ],
      "metadata": {
        "id": "ING_DNl6gcN3"
      }
    },
    {
      "cell_type": "code",
      "source": [
        "def evaluate(transformer, batch_size, loader):\n",
        "    transformer.eval()\n",
        "    n_batches = int(math.floor(len(loader.dataset) / batch_size))\n",
        "    progress_bar = tqdm.tqdm(enumerate(loader), total=n_batches)\n",
        "\n",
        "    with torch.no_grad():\n",
        "        losses = 0\n",
        "        for i, data in progress_bar:\n",
        "            #get the data and labels on the device\n",
        "            _, x, src_len, labels, _ = data\n",
        "            x = x.to(DEVICE)\n",
        "            if labels is not None:\n",
        "                labels = labels.to(DEVICE)\n",
        "\n",
        "            # create masks for the data\n",
        "            src_mask, src_padding_mask = create_mask_src(x, DEVICE)\n",
        "\n",
        "            # run model\n",
        "            pred = transformer(x, src_mask, src_padding_mask)\n",
        "\n",
        "            # create and apply mask to the labels\n",
        "            mask = (labels != PAD_TOKEN).float()\n",
        "            padding_len = np.round(np.divide(src_len, NR_DETECTORS))\n",
        "            labels = labels * mask\n",
        "\n",
        "            # calculate loss for 2d data\n",
        "            if DIM == 2:\n",
        "                pred = pred.transpose(0, 1)\n",
        "                pred_mask = create_output_pred_mask(pred, padding_len)\n",
        "                pred = pred * torch.tensor(pred_mask, device=DEVICE).float()\n",
        "                # loss calculation\n",
        "                loss = LOSS_FN(pred, labels)\n",
        "\n",
        "            # calculate loss for 3d data\n",
        "            elif DIM == 3:\n",
        "                pred = pred[0].transpose(0, 1), pred[1].transpose(0, 1)\n",
        "                pred = torch.stack([pred[0], pred[1]])\n",
        "                for slice_ind in range(pred.shape[0]):\n",
        "                    slice_mask = create_output_pred_mask(pred[slice_ind, :, :], padding_len)\n",
        "                    pred[slice_ind, :, :] = pred[slice_ind, :, :] * torch.tensor(slice_mask, device=DEVICE).float()\n",
        "                pred = pred.transpose(0, 2)\n",
        "                pred = pred.transpose(1, 0)\n",
        "                # loss calculation\n",
        "                loss = LOSS_FN(pred, labels)\n",
        "\n",
        "\n",
        "            # update the progress bar\n",
        "            progress_bar.set_description(\"loss = %.8f\" % loss.item())\n",
        "            losses += loss.item()\n",
        "\n",
        "    return losses / len(loader)"
      ],
      "metadata": {
        "id": "Dug4fiwygoU5"
      },
      "execution_count": 51,
      "outputs": []
    },
    {
      "cell_type": "code",
      "source": [
        "def train(t_loader, v_loader, transformer, optimizer, batch_size):\n",
        "    train_losses, val_losses = [], []\n",
        "    min_val_loss = np.inf\n",
        "    epoch, count = 0, 0\n",
        "\n",
        "    print(\"Starting training...\")\n",
        "\n",
        "    for epoch in range(epoch, EPOCHS):\n",
        "        start_time = timer()\n",
        "\n",
        "        # we set the model to train mode and enable gradients\n",
        "        torch.set_grad_enabled(True)\n",
        "        transformer.train()\n",
        "\n",
        "        # we calculate the number of batches for the progress bar\n",
        "        n_batches = int(math.floor(len(t_loader.dataset) / batch_size))\n",
        "        progress_bar = tqdm.tqdm(enumerate(t_loader), total=n_batches)\n",
        "\n",
        "        # we calculate the loss by calling the train_eval function\n",
        "        losses = 0\n",
        "\n",
        "        for i, data in progress_bar:\n",
        "            # get the data and labels on the device\n",
        "            _, x, src_len, labels, _ = data\n",
        "            x = x.to(DEVICE)\n",
        "            if labels is not None:\n",
        "                labels = labels.to(DEVICE)\n",
        "\n",
        "            # create masks for the data\n",
        "            src_mask, src_padding_mask = create_mask_src(x, DEVICE)\n",
        "\n",
        "            # run model\n",
        "            pred = transformer(x, src_mask, src_padding_mask)\n",
        "            optimizer.zero_grad()\n",
        "\n",
        "            # create and apply mask to the labels\n",
        "            mask = (labels != PAD_TOKEN).float()\n",
        "            padding_len = np.round(np.divide(src_len, NR_DETECTORS))\n",
        "            labels = labels * mask\n",
        "\n",
        "            # calculate loss for 2d data\n",
        "            if DIM == 2:\n",
        "                pred = pred.transpose(0, 1)\n",
        "                pred_mask = create_output_pred_mask(pred, padding_len)\n",
        "                pred = pred * torch.tensor(pred_mask, device=DEVICE).float()\n",
        "                # loss calculation\n",
        "                loss = LOSS_FN(pred, labels)\n",
        "\n",
        "            # calculate loss for 3d data\n",
        "            elif DIM == 3:\n",
        "                pred = pred[0].transpose(0, 1), pred[1].transpose(0, 1)\n",
        "                pred = torch.stack([pred[0], pred[1]])\n",
        "                for slice_ind in range(pred.shape[0]):\n",
        "                    slice_mask = create_output_pred_mask(pred[slice_ind, :, :], padding_len)\n",
        "                    pred[slice_ind, :, :] = pred[slice_ind, :, :] * torch.tensor(slice_mask, device=DEVICE).float()\n",
        "                pred = pred.transpose(0, 2)\n",
        "                pred = pred.transpose(1, 0)\n",
        "                # loss calculation\n",
        "                loss = LOSS_FN(pred, labels)\n",
        "\n",
        "            # compute gradients and do backpropagation\n",
        "            loss.backward()\n",
        "            optimizer.step()\n",
        "\n",
        "            # update the progress bar\n",
        "            progress_bar.set_description(\"loss = %.8f\" % loss.item())\n",
        "            losses += loss.item()\n",
        "\n",
        "        # calculate final loss\n",
        "        train_loss = losses / len(t_loader)\n",
        "        end_time = timer()\n",
        "\n",
        "        # we evaluate the model on the validation set\n",
        "        val_loss = evaluate(transformer, batch_size, v_loader)\n",
        "        print(\"\\nEpoch: \", epoch, \", Train loss: \", train_loss, \\\n",
        "               \", Val loss: \", val_loss, \", Epoch time: \", end_time - start_time, \"\\n\")\n",
        "\n",
        "        train_losses.append(train_loss)\n",
        "        val_losses.append(val_loss)\n",
        "\n",
        "        # either saving the best model or the last model and keeping track of early stopping\n",
        "        if val_loss < min_val_loss:\n",
        "            min_val_loss = val_loss\n",
        "            print(\"Saving best model with val_loss: {}\".format(val_loss))\n",
        "            torch.save({'epoch': epoch, 'model_state_dict': transformer.state_dict(),\n",
        "                'optimizer_state_dict': optimizer.state_dict(), 'train_losses': train_losses,\n",
        "                'val_losses': val_losses,\n",
        "            }, \"model/transformer_encoder_best\")\n",
        "            count = 0\n",
        "        else:\n",
        "            print(\"Saving last model with val_loss: {}\".format(val_loss))\n",
        "            torch.save({'epoch': epoch, 'model_state_dict': transformer.state_dict(),\n",
        "                'optimizer_state_dict': optimizer.state_dict(), 'train_losses': train_losses,\n",
        "                'val_losses': val_losses,\n",
        "            }, \"model/transformer_encoder_last\")\n",
        "            count += 1\n",
        "\n",
        "        # early stopping criterion\n",
        "        if count >= EARLY_STOPPING:\n",
        "            print(\"Early stopping\")\n",
        "            break\n",
        "\n",
        "    print(\"Final best loss: \", min_val_loss)"
      ],
      "metadata": {
        "id": "pNPSXVTmgtbr"
      },
      "execution_count": 52,
      "outputs": []
    },
    {
      "cell_type": "markdown",
      "source": [
        "# The Model\n",
        "\n",
        "The following class describes the model itself, this code is mostly based on the paper \"Artificial intelligence for improved fitting of trajectories of elementary particles in inhomogeneous dense materials immersed in a magnetic field\". For which code was provided."
      ],
      "metadata": {
        "id": "GdDWbWZyla4U"
      }
    },
    {
      "cell_type": "code",
      "source": [
        "class FittingTransformer(nn.Module):\n",
        "    def __init__(self,\n",
        "                 num_encoder_layers: int,\n",
        "                 d_model: int,\n",
        "                 n_head: int,\n",
        "                 input_size: int,\n",
        "                 output_size: int,\n",
        "                 dim_feedforward: int,\n",
        "                 dropout: float = 0.1,\n",
        "                 seq_len: int = 20):\n",
        "\n",
        "        super(FittingTransformer, self).__init__()\n",
        "        encoder_layers = TransformerEncoderLayer(d_model=d_model,\n",
        "                                                 nhead=n_head,\n",
        "                                                 dim_feedforward=dim_feedforward,\n",
        "                                                 dropout=dropout)\n",
        "        self.transformer_encoder = TransformerEncoder(encoder_layers, num_encoder_layers)\n",
        "        self.proj_input = nn.Linear(input_size, d_model)\n",
        "        # self.aggregator = nn.Linear(seq_len, 1)\n",
        "        self.decoder_angle1 = nn.Linear(d_model, output_size)\n",
        "        self.decoder_angle2 = nn.Linear(d_model, output_size)\n",
        "        self.dropout = nn.Dropout(dropout)\n",
        "        self.init_weights()\n",
        "\n",
        "    def init_weights(self, init_range=0.1) -> None:\n",
        "        # weights initialisation\n",
        "        self.proj_input.bias.data.zero_()\n",
        "        self.proj_input.weight.data.uniform_(-init_range, init_range)\n",
        "        self.decoder_angle1.bias.data.zero_()\n",
        "        self.decoder_angle1.weight.data.uniform_(-init_range, init_range)\n",
        "        self.decoder_angle2.bias.data.zero_()\n",
        "        self.decoder_angle2.weight.data.uniform_(-init_range, init_range)\n",
        "\n",
        "    def forward(self,\n",
        "                src: Tensor,\n",
        "                mask: Tensor,\n",
        "                src_key_padding_mask: Tensor):\n",
        "\n",
        "        # Linear projection of the input\n",
        "        src_emb = self.proj_input(src)\n",
        "\n",
        "        # Transformer encoder\n",
        "        memory = self.transformer_encoder(src=src_emb, mask=mask,\n",
        "                                          src_key_padding_mask=src_key_padding_mask)\n",
        "        memory = torch.mean(memory, dim=0)\n",
        "\n",
        "        # Linear projection of the output, with 1 output if there are 2 dimensions and 2 outputs if there are 3 dimensions\n",
        "        if DIM == 2:\n",
        "            output = self.decoder_angle1(memory)\n",
        "            return output\n",
        "        if DIM == 3:\n",
        "            output1 = self.decoder_angle1(memory)\n",
        "            output2 = self.decoder_angle2(memory)\n",
        "            return output1, output2\n"
      ],
      "metadata": {
        "id": "-PyEYdhqNwlm"
      },
      "execution_count": 53,
      "outputs": []
    },
    {
      "cell_type": "markdown",
      "source": [
        "# Setting up the data\n",
        "\n",
        "We define the parameters for the model in order to easily change them for grid search. Then we split the data, create the dataloaders and initialise the model."
      ],
      "metadata": {
        "id": "Am3uBnVklygG"
      }
    },
    {
      "cell_type": "code",
      "source": [
        "D_MODEL = 128\n",
        "NUM_ENCODER_LAYERS = 6\n",
        "N_HEAD = 8\n",
        "DIM_FEEDFORWARD = 128\n",
        "DROPOUT = 0.1\n",
        "EPOCHS = 60"
      ],
      "metadata": {
        "id": "oCm6QEQ1VJFj"
      },
      "execution_count": 54,
      "outputs": []
    },
    {
      "cell_type": "code",
      "source": [
        "# split data into train=0.6, val=0.2 and test=0.2\n",
        "proportions = [.6, .2, .2]\n",
        "lengths = [int(p * len(dataset)) for p in proportions]\n",
        "lengths[-1] = len(dataset) - sum(lengths[:-1])\n",
        "train_set, val_set, test_set = random_split(dataset, lengths, generator=torch.Generator().manual_seed(123))\n",
        "\n",
        "# create train, validation, and test loaders\n",
        "train_loader = DataLoader(train_set, batch_size=BATCH_SIZE, collate_fn=custom_collate)\n",
        "val_loader = DataLoader(val_set, batch_size=BATCH_SIZE, collate_fn=custom_collate)\n",
        "test_loader = DataLoader(test_set, batch_size=TEST_BATCH_SIZE, collate_fn=custom_collate)\n",
        "\n",
        "# Initialise the transformer model\n",
        "transformer = FittingTransformer(num_encoder_layers=NUM_ENCODER_LAYERS,\n",
        "                                d_model=D_MODEL,\n",
        "                                n_head=N_HEAD,\n",
        "                                input_size=3,\n",
        "                                output_size=20,\n",
        "                                dim_feedforward=DIM_FEEDFORWARD,\n",
        "                                dropout=DROPOUT)\n",
        "transformer = transformer.to(DEVICE)\n",
        "\n",
        "# initialise the optimizer\n",
        "optimizer = torch.optim.Adam(transformer.parameters(), lr=1e-4)"
      ],
      "metadata": {
        "id": "CIP2f1dZg4-D"
      },
      "execution_count": 55,
      "outputs": []
    },
    {
      "cell_type": "markdown",
      "source": [
        "We do a small sanity check before training to see if the data is what we expect it to be"
      ],
      "metadata": {
        "id": "F56H0c8tmTP0"
      }
    },
    {
      "cell_type": "code",
      "source": [
        "print(\"Length of data: \", len(dataset.data))\n",
        "print(\"Length of labels: \", len(dataset.labels))\n",
        "\n",
        "print(\"Length of train set: \", len(train_set))\n",
        "print(\"Length of val set: \", len(val_set))\n",
        "print(\"Length of test set: \", len(test_set))"
      ],
      "metadata": {
        "colab": {
          "base_uri": "https://localhost:8080/"
        },
        "id": "xuSXlMlmi5sj",
        "outputId": "8f0494e0-5dc8-4ac8-cda4-b5d09fbd31bd"
      },
      "execution_count": 56,
      "outputs": [
        {
          "output_type": "stream",
          "name": "stdout",
          "text": [
            "Length of data:  50000\n",
            "Length of labels:  50000\n",
            "Length of train set:  30000\n",
            "Length of val set:  10000\n",
            "Length of test set:  10000\n"
          ]
        }
      ]
    },
    {
      "cell_type": "markdown",
      "source": [
        "#Training\n",
        "\n",
        "Here we can finally call the train function."
      ],
      "metadata": {
        "id": "mk0dL0qkhAym"
      }
    },
    {
      "cell_type": "code",
      "source": [
        "train(train_loader, val_loader, transformer, optimizer, BATCH_SIZE)"
      ],
      "metadata": {
        "id": "T54ych5Ug-lm",
        "colab": {
          "base_uri": "https://localhost:8080/"
        },
        "outputId": "41500440-7fc2-4f61-a803-cc86a4db588f"
      },
      "execution_count": 57,
      "outputs": [
        {
          "output_type": "stream",
          "name": "stdout",
          "text": [
            "Starting training...\n"
          ]
        },
        {
          "output_type": "stream",
          "name": "stderr",
          "text": [
            "loss = 0.17365369: : 938it [00:53, 17.55it/s]                       \n",
            "loss = 0.18451875: : 313it [00:13, 23.95it/s]                       \n"
          ]
        },
        {
          "output_type": "stream",
          "name": "stdout",
          "text": [
            "\n",
            "Epoch:  0 , Train loss:  0.3009836396126986 , Val loss:  0.204379329047264 , Epoch time:  53.447647781999876 \n",
            "\n",
            "Saving best model with val_loss: 0.204379329047264\n"
          ]
        },
        {
          "output_type": "stream",
          "name": "stderr",
          "text": [
            "loss = 0.14299217: : 938it [00:53, 17.66it/s]                       \n",
            "loss = 0.16244231: : 313it [00:13, 23.48it/s]\n"
          ]
        },
        {
          "output_type": "stream",
          "name": "stdout",
          "text": [
            "\n",
            "Epoch:  1 , Train loss:  0.15552250785169316 , Val loss:  0.17234236389969865 , Epoch time:  53.1367121960011 \n",
            "\n",
            "Saving best model with val_loss: 0.17234236389969865\n"
          ]
        },
        {
          "output_type": "stream",
          "name": "stderr",
          "text": [
            "loss = 0.14753179: : 938it [00:52, 17.71it/s]                       \n",
            "loss = 0.12528329: : 313it [00:15, 20.18it/s]\n"
          ]
        },
        {
          "output_type": "stream",
          "name": "stdout",
          "text": [
            "\n",
            "Epoch:  2 , Train loss:  0.13604150081017632 , Val loss:  0.1301801051861181 , Epoch time:  52.9762730500006 \n",
            "\n",
            "Saving best model with val_loss: 0.1301801051861181\n"
          ]
        },
        {
          "output_type": "stream",
          "name": "stderr",
          "text": [
            "loss = 0.13436401: : 938it [00:52, 18.02it/s]                       \n",
            "loss = 0.13050485: : 313it [00:13, 24.03it/s]                       \n"
          ]
        },
        {
          "output_type": "stream",
          "name": "stdout",
          "text": [
            "\n",
            "Epoch:  3 , Train loss:  0.11674336541785614 , Val loss:  0.12665230092910912 , Epoch time:  52.04968589300006 \n",
            "\n",
            "Saving best model with val_loss: 0.12665230092910912\n"
          ]
        },
        {
          "output_type": "stream",
          "name": "stderr",
          "text": [
            "loss = 0.12427669: : 938it [00:51, 18.04it/s]                       \n",
            "loss = 0.13218747: : 313it [00:13, 23.96it/s]\n"
          ]
        },
        {
          "output_type": "stream",
          "name": "stdout",
          "text": [
            "\n",
            "Epoch:  4 , Train loss:  0.10072082503518062 , Val loss:  0.11938970259869822 , Epoch time:  51.9988669710001 \n",
            "\n",
            "Saving best model with val_loss: 0.11938970259869822\n"
          ]
        },
        {
          "output_type": "stream",
          "name": "stderr",
          "text": [
            "loss = 0.10605424: : 938it [00:57, 16.20it/s]                       \n",
            "loss = 0.12929128: : 313it [00:13, 22.73it/s]                       \n"
          ]
        },
        {
          "output_type": "stream",
          "name": "stdout",
          "text": [
            "\n",
            "Epoch:  5 , Train loss:  0.09081489914484116 , Val loss:  0.1151123257538381 , Epoch time:  57.92052442500062 \n",
            "\n",
            "Saving best model with val_loss: 0.1151123257538381\n"
          ]
        },
        {
          "output_type": "stream",
          "name": "stderr",
          "text": [
            "loss = 0.09368061: : 938it [01:02, 14.94it/s]                       \n",
            "loss = 0.12290447: : 313it [00:13, 23.67it/s]                       \n"
          ]
        },
        {
          "output_type": "stream",
          "name": "stdout",
          "text": [
            "\n",
            "Epoch:  6 , Train loss:  0.08262375814478788 , Val loss:  0.10571190930260256 , Epoch time:  62.79718450800101 \n",
            "\n",
            "Saving best model with val_loss: 0.10571190930260256\n"
          ]
        },
        {
          "output_type": "stream",
          "name": "stderr",
          "text": [
            "loss = 0.10215447: : 938it [00:54, 17.32it/s]                       \n",
            "loss = 0.12672055: : 313it [00:13, 23.07it/s]                       \n"
          ]
        },
        {
          "output_type": "stream",
          "name": "stdout",
          "text": [
            "\n",
            "Epoch:  7 , Train loss:  0.07602848717843545 , Val loss:  0.10257674738193473 , Epoch time:  54.17272152499936 \n",
            "\n",
            "Saving best model with val_loss: 0.10257674738193473\n"
          ]
        },
        {
          "output_type": "stream",
          "name": "stderr",
          "text": [
            "loss = 0.09310236: : 938it [00:53, 17.63it/s]                       \n",
            "loss = 0.13077202: : 313it [00:13, 23.56it/s]                       \n"
          ]
        },
        {
          "output_type": "stream",
          "name": "stdout",
          "text": [
            "\n",
            "Epoch:  8 , Train loss:  0.07060574086458445 , Val loss:  0.10546860949823651 , Epoch time:  53.217455426000015 \n",
            "\n",
            "Saving last model with val_loss: 0.10546860949823651\n"
          ]
        },
        {
          "output_type": "stream",
          "name": "stderr",
          "text": [
            "loss = 0.06552379: : 938it [00:55, 16.96it/s]                       \n",
            "loss = 0.14498916: : 313it [00:13, 23.75it/s]                       \n"
          ]
        },
        {
          "output_type": "stream",
          "name": "stdout",
          "text": [
            "\n",
            "Epoch:  9 , Train loss:  0.0657695213686238 , Val loss:  0.11329521482792525 , Epoch time:  55.32811396699981 \n",
            "\n",
            "Saving last model with val_loss: 0.11329521482792525\n"
          ]
        },
        {
          "output_type": "stream",
          "name": "stderr",
          "text": [
            "loss = 0.06577841: : 938it [00:53, 17.60it/s]                       \n",
            "loss = 0.13184066: : 313it [00:13, 23.53it/s]                       \n"
          ]
        },
        {
          "output_type": "stream",
          "name": "stdout",
          "text": [
            "\n",
            "Epoch:  10 , Train loss:  0.06184101318007212 , Val loss:  0.10247858981497752 , Epoch time:  53.304473030000736 \n",
            "\n",
            "Saving best model with val_loss: 0.10247858981497752\n"
          ]
        },
        {
          "output_type": "stream",
          "name": "stderr",
          "text": [
            "loss = 0.07664243: : 938it [00:54, 17.13it/s]                       \n",
            "loss = 0.11474758: : 313it [00:13, 22.70it/s]                       \n"
          ]
        },
        {
          "output_type": "stream",
          "name": "stdout",
          "text": [
            "\n",
            "Epoch:  11 , Train loss:  0.059183748339666234 , Val loss:  0.0876890322961175 , Epoch time:  54.78141136799968 \n",
            "\n",
            "Saving best model with val_loss: 0.0876890322961175\n"
          ]
        },
        {
          "output_type": "stream",
          "name": "stderr",
          "text": [
            "loss = 0.06745666: : 938it [00:56, 16.54it/s]                       \n",
            "loss = 0.12532055: : 313it [00:12, 24.29it/s]\n"
          ]
        },
        {
          "output_type": "stream",
          "name": "stdout",
          "text": [
            "\n",
            "Epoch:  12 , Train loss:  0.05699745390508602 , Val loss:  0.08944401023582148 , Epoch time:  56.7273450520006 \n",
            "\n",
            "Saving last model with val_loss: 0.08944401023582148\n"
          ]
        },
        {
          "output_type": "stream",
          "name": "stderr",
          "text": [
            "loss = 0.06414177: : 938it [00:52, 17.78it/s]                       \n",
            "loss = 0.14314346: : 313it [00:13, 23.83it/s]                       \n"
          ]
        },
        {
          "output_type": "stream",
          "name": "stdout",
          "text": [
            "\n",
            "Epoch:  13 , Train loss:  0.05395383705128866 , Val loss:  0.10456060328946327 , Epoch time:  52.75055095700009 \n",
            "\n",
            "Saving last model with val_loss: 0.10456060328946327\n"
          ]
        },
        {
          "output_type": "stream",
          "name": "stderr",
          "text": [
            "loss = 0.06547009: : 938it [00:53, 17.42it/s]                       \n",
            "loss = 0.14723806: : 313it [00:13, 22.74it/s]                       \n"
          ]
        },
        {
          "output_type": "stream",
          "name": "stdout",
          "text": [
            "\n",
            "Epoch:  14 , Train loss:  0.051645427622568255 , Val loss:  0.11019975770586216 , Epoch time:  53.85564136699941 \n",
            "\n",
            "Saving last model with val_loss: 0.11019975770586216\n"
          ]
        },
        {
          "output_type": "stream",
          "name": "stderr",
          "text": [
            "loss = 0.05809485: : 938it [00:53, 17.43it/s]                       \n",
            "loss = 0.12409039: : 313it [00:13, 23.13it/s]                       \n"
          ]
        },
        {
          "output_type": "stream",
          "name": "stdout",
          "text": [
            "\n",
            "Epoch:  15 , Train loss:  0.050219824762026 , Val loss:  0.08789504694338805 , Epoch time:  53.830379545999676 \n",
            "\n",
            "Saving last model with val_loss: 0.08789504694338805\n"
          ]
        },
        {
          "output_type": "stream",
          "name": "stderr",
          "text": [
            "loss = 0.06242459: : 938it [00:53, 17.52it/s]                       \n",
            "loss = 0.13502195: : 313it [00:13, 23.16it/s]                       \n"
          ]
        },
        {
          "output_type": "stream",
          "name": "stdout",
          "text": [
            "\n",
            "Epoch:  16 , Train loss:  0.04855647750460962 , Val loss:  0.10933611422967605 , Epoch time:  53.54674596500081 \n",
            "\n",
            "Saving last model with val_loss: 0.10933611422967605\n"
          ]
        },
        {
          "output_type": "stream",
          "name": "stderr",
          "text": [
            "loss = 0.04482698: : 938it [00:53, 17.52it/s]                       \n",
            "loss = 0.15941368: : 313it [00:13, 23.89it/s]                       \n"
          ]
        },
        {
          "output_type": "stream",
          "name": "stdout",
          "text": [
            "\n",
            "Epoch:  17 , Train loss:  0.04757158255486536 , Val loss:  0.1252969062556855 , Epoch time:  53.548685972000385 \n",
            "\n",
            "Saving last model with val_loss: 0.1252969062556855\n",
            "Early stopping\n",
            "Final best loss:  0.0876890322961175\n"
          ]
        }
      ]
    },
    {
      "cell_type": "markdown",
      "source": [
        "# Loading a saved model\n",
        "\n",
        "If the training has already been done, we can load in a saved model with the following code.\n",
        "\n",
        "The code from setting up the data does have to be ran before this."
      ],
      "metadata": {
        "id": "Bb3d9yy_biNi"
      }
    },
    {
      "cell_type": "code",
      "source": [
        "checkpoint = torch.load(\"model/transformer_encoder_last\")\n",
        "transformer.load_state_dict(checkpoint['model_state_dict'])\n",
        "optimizer.load_state_dict(checkpoint['optimizer_state_dict'])\n",
        "epoch = checkpoint['epoch'] + 1\n",
        "train_losses = checkpoint['train_losses']\n",
        "val_losses = checkpoint['val_losses']\n",
        "min_val_loss = min(val_losses)\n",
        "print(epoch, val_losses)"
      ],
      "metadata": {
        "id": "4nVHO6oFbhbX"
      },
      "execution_count": null,
      "outputs": []
    },
    {
      "cell_type": "markdown",
      "source": [
        "# Evaluating\n",
        "\n",
        "The final step is calculating the loss over the test set."
      ],
      "metadata": {
        "id": "Cid5mgXuhDyJ"
      }
    },
    {
      "cell_type": "code",
      "source": [
        "test_loss = evaluate(transformer, TEST_BATCH_SIZE, test_loader)\n",
        "print(\"\\ntest loss: \", test_loss)"
      ],
      "metadata": {
        "id": "xKVuV6Ceg_y9",
        "colab": {
          "base_uri": "https://localhost:8080/"
        },
        "outputId": "ee291894-fa66-48de-d9da-bfe94c86861b"
      },
      "execution_count": 58,
      "outputs": [
        {
          "output_type": "stream",
          "name": "stderr",
          "text": [
            "loss = 0.11267737: 100%|██████████| 5000/5000 [00:57<00:00, 86.77it/s]"
          ]
        },
        {
          "output_type": "stream",
          "name": "stdout",
          "text": [
            "\n",
            "test loss:  0.12341414264765335\n"
          ]
        },
        {
          "output_type": "stream",
          "name": "stderr",
          "text": [
            "\n"
          ]
        }
      ]
    },
    {
      "cell_type": "code",
      "source": [],
      "metadata": {
        "id": "ZfS_TxYRPGcu"
      },
      "execution_count": null,
      "outputs": []
    }
  ]
}